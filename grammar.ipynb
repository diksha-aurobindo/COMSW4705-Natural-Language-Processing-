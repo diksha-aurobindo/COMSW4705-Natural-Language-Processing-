{
 "cells": [
  {
   "cell_type": "code",
   "execution_count": null,
   "id": "391cbd08",
   "metadata": {},
   "outputs": [],
   "source": [
    "\"\"\"\n",
    "COMS W4705 - Natural Language Processing - Spring 2023\n",
    "Homework 2 - Parsing with Context Free Grammars \n",
    "Daniel Bauer\n",
    "\"\"\""
   ]
  },
  {
   "cell_type": "code",
   "execution_count": null,
   "id": "61edf4ac",
   "metadata": {
    "lines_to_next_cell": 1
   },
   "outputs": [],
   "source": [
    "import sys\n",
    "from collections import defaultdict\n",
    "from math import fsum\n",
    "import numpy as np"
   ]
  },
  {
   "cell_type": "code",
   "execution_count": null,
   "id": "d3ad2e5f",
   "metadata": {},
   "outputs": [],
   "source": [
    "class Pcfg(object): \n",
    "    \"\"\"\n",
    "    Represent a probabilistic context free grammar. \n",
    "    \"\"\"\n",
    "\n",
    "    def __init__(self, grammar_file): \n",
    "        self.rhs_to_rules = defaultdict(list)\n",
    "        self.lhs_to_rules = defaultdict(list)\n",
    "        self.startsymbol = None \n",
    "        self.read_rules(grammar_file)      \n",
    " \n",
    "    def read_rules(self,grammar_file):\n",
    "        \n",
    "        for line in grammar_file: \n",
    "            line = line.strip()\n",
    "            if line and not line.startswith(\"#\"):\n",
    "                if \"->\" in line: \n",
    "                    rule = self.parse_rule(line.strip())\n",
    "                    lhs, rhs, prob = rule\n",
    "                    self.rhs_to_rules[rhs].append(rule)\n",
    "                    self.lhs_to_rules[lhs].append(rule)\n",
    "                else: \n",
    "                    startsymbol, prob = line.rsplit(\";\")\n",
    "                    self.startsymbol = startsymbol.strip()\n",
    "                    \n",
    "     \n",
    "    def parse_rule(self,rule_s):\n",
    "        lhs, other = rule_s.split(\"->\")\n",
    "        lhs = lhs.strip()\n",
    "        rhs_s, prob_s = other.rsplit(\";\",1) \n",
    "        prob = float(prob_s)\n",
    "        rhs = tuple(rhs_s.strip().split())\n",
    "        return (lhs, rhs, prob)\n",
    "\n",
    "    def verify_grammar(self):\n",
    "        \"\"\"\n",
    "        Return True if the grammar is a valid PCFG in CNF.\n",
    "        Otherwise return False. \n",
    "        \"\"\"\n",
    "        for key, value in self.rhs_to_rules.items():\n",
    "            for i in range(len(value)):\n",
    "\n",
    "                if key != value[i][1]:\n",
    "                    print(\"key error of rhs\")\n",
    "                    return False\n",
    "\n",
    "                if len(value[i][1]) == 2:\n",
    "                    if value[i][0].isupper() is False:\n",
    "                        return False\n",
    "\n",
    "                    for j in range(2):\n",
    "                        if value[i][1][j].upper() != value[i][1][j]:\n",
    "                            print(\"Non-terminal error\", value[i][1])\n",
    "                            return False\n",
    "\n",
    "                if len(value[i][1]) == 1:\n",
    "                    if value[i][1][0].lower() != value[i][1][0]:\n",
    "                        print(\"Terminal error\", value[i][1])\n",
    "                        return False\n",
    "\n",
    "        for key,values in self.lhs_to_rules.items():\n",
    "            prob=[]\n",
    "            for i in range(len(values)):\n",
    "                prob.append(values[i][2])\n",
    "            val = round(fsum(prob))\n",
    "            if val==1:\n",
    "                return True\n",
    "            else:\n",
    "                return False\n",
    "\n",
    "        return True"
   ]
  },
  {
   "cell_type": "code",
   "execution_count": null,
   "id": "b838ff3c",
   "metadata": {},
   "outputs": [],
   "source": [
    "if __name__ == \"__main__\":\n",
    "    with open('atis3.pcfg','r') as grammar_file:\n",
    "        grammar = Pcfg(grammar_file)\n",
    "        print(grammar.verify_grammar())"
   ]
  },
  {
   "cell_type": "code",
   "execution_count": null,
   "id": "7137e9e5",
   "metadata": {},
   "outputs": [],
   "source": [
    "        "
   ]
  }
 ],
 "metadata": {
  "jupytext": {
   "cell_metadata_filter": "-all",
   "notebook_metadata_filter": "-all",
   "text_representation": {
    "extension": ".py",
    "format_name": "light"
   }
  },
  "kernelspec": {
   "display_name": "Python 3 (ipykernel)",
   "language": "python",
   "name": "python3"
  }
 },
 "nbformat": 4,
 "nbformat_minor": 5
}
