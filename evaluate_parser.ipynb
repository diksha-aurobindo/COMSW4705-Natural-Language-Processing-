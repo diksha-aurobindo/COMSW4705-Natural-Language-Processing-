{
 "cells": [
  {
   "cell_type": "code",
   "execution_count": null,
   "id": "732be78a",
   "metadata": {
    "lines_to_next_cell": 1
   },
   "outputs": [],
   "source": [
    "from cky import Pcfg, CkyParser, get_tree\n",
    "import sys"
   ]
  },
  {
   "cell_type": "code",
   "execution_count": null,
   "id": "f4da477b",
   "metadata": {
    "lines_to_next_cell": 1
   },
   "outputs": [],
   "source": [
    "def tokenize(line):\n",
    "    tok = ''\n",
    "    for c in line: \n",
    "        if c == \" \":\n",
    "            if tok: \n",
    "                yield tok\n",
    "                tok = \"\"\n",
    "        elif c == \"(\" or c==\")\":\n",
    "            if tok: \n",
    "                yield tok\n",
    "            yield c\n",
    "            tok = \"\"\n",
    "        else: \n",
    "            tok += c\n",
    "    if tok: \n",
    "        yield tok\n",
    "        tok = \"\""
   ]
  },
  {
   "cell_type": "code",
   "execution_count": null,
   "id": "c6d19490",
   "metadata": {},
   "outputs": [],
   "source": [
    "def parse_tree(line):\n",
    "    toks = tokenize(line)\n",
    "    stack = []\n",
    "    t = next(toks)\n",
    "    try:\n",
    "        while t:\n",
    "            if t==\"(\":\n",
    "                stack.append(t)\n",
    "            elif t==\")\":\n",
    "                subtree = []\n",
    "                s = stack.pop()\n",
    "                while s[0]!=\"(\":\n",
    "                    subtree.append(s)\n",
    "                    s = stack.pop()\n",
    "                stack.append(tuple(reversed(subtree)))\n",
    "            else: \n",
    "                stack.append(t)\n",
    "            t = next(toks)\n",
    "    except StopIteration: \n",
    "        return stack.pop()"
   ]
  },
  {
   "cell_type": "code",
   "execution_count": null,
   "id": "5ed45817",
   "metadata": {},
   "outputs": [],
   "source": [
    "def get_leafs(tree):\n",
    "    if isinstance(tree,str):\n",
    "        return [tree]\n",
    "    else: \n",
    "        result = []\n",
    "        for x in tree[1:]:\n",
    "            result.extend(get_leafs(x))\n",
    "        return result"
   ]
  },
  {
   "cell_type": "code",
   "execution_count": null,
   "id": "41c74be6",
   "metadata": {
    "lines_to_next_cell": 1
   },
   "outputs": [],
   "source": [
    "def get_constituents(tree,left=0):\n",
    "    if not tree: \n",
    "        return [], left\n",
    "    start = left\n",
    "    if isinstance(tree,str): \n",
    "        return [],left+1\n",
    "    else: \n",
    "        result = []\n",
    "        phrase = tree[0]\n",
    "        for subtree in tree[1:]:\n",
    "            subspans, right = get_constituents(subtree, left)\n",
    "            result.extend(subspans)\n",
    "            left = right\n",
    "        result.append((phrase,start,left))\n",
    "        return result, left"
   ]
  },
  {
   "cell_type": "code",
   "execution_count": null,
   "id": "6e8e06ff",
   "metadata": {
    "lines_to_next_cell": 1
   },
   "outputs": [],
   "source": [
    "def compute_parseval_scores(gold_tree, test_tree): \n",
    "    \n",
    "    gold_const = set(get_constituents(gold_tree)[0])\n",
    "    test_const = set(get_constituents(test_tree)[0])\n",
    "    \n",
    "    if not test_const: \n",
    "        return 0.0,0.0,0.0\n",
    "\n",
    "    correct = len(gold_const.intersection(test_const))     \n",
    "    recall = correct / float(len(gold_const))\n",
    "    precision = correct / float(len(test_const))\n",
    "    fscore = (2*precision*recall) / (precision+recall)\n",
    "    return precision, recall, fscore "
   ]
  },
  {
   "cell_type": "code",
   "execution_count": null,
   "id": "c041d77b",
   "metadata": {},
   "outputs": [],
   "source": [
    "def evaluate_parser(parser, treebank_file):\n",
    "  \n",
    "    total = 0\n",
    "    unparsed = 0\n",
    "    fscore_sum = 0.0\n",
    "    for line in treebank_file:  \n",
    "        gold_tree = parse_tree(line.strip())\n",
    "        tokens = get_leafs(gold_tree)\n",
    "        print(\"input: \",tokens)\n",
    "        chart,probs = parser.parse_with_backpointers(tokens)\n",
    "        print(\"target:    \",gold_tree)\n",
    "        total += 1\n",
    "        if not chart: \n",
    "            unparsed += 1\n",
    "            res = tuple()\n",
    "        else: \n",
    "            try:\n",
    "                res = get_tree(chart,0,len(tokens),parser.grammar.startsymbol)\n",
    "            except KeyError:\n",
    "                unparsed += 1\n",
    "                res = tuple() \n",
    "        print(\"predicted: \",res)\n",
    "        #print(compute_parseval_scores(gold_tree, res))\n",
    "        p,r,f = compute_parseval_scores(gold_tree, res)\n",
    "        fscore_sum += f\n",
    "        print(\"P:{} R:{} F:{}\".format(p,r,f))\n",
    "        print()\n",
    "        \n",
    "    parsed = total-unparsed \n",
    "    if parsed == 0:\n",
    "        coverage = 0.0\n",
    "        fscore_parsed = 0.0\n",
    "        fscore_all = 0.0 \n",
    "    else: \n",
    "        coverage =  (parsed / total) *100\n",
    "        fscore_parsed = fscore_sum / parsed \n",
    "        fscore_all = fscore_sum / total\n",
    "    print(\"Coverage: {:.2f}%, Average F-score (parsed sentences): {}, Average F-score (all sentences): {}\".format(coverage, fscore_parsed, fscore_all))"
   ]
  },
  {
   "cell_type": "code",
   "execution_count": null,
   "id": "12f32d2c",
   "metadata": {},
   "outputs": [],
   "source": [
    "if __name__ == \"__main__\":\n",
    "\n",
    "    if len(sys.argv)!=3:\n",
    "        print(\"USAGE: python evaluate_parser.py [grammar_file] [test_file]\")\n",
    "        sys.exit(1)\n",
    "\n",
    "    with open(sys.argv[1],'r') as grammar_file, open(sys.argv[2],'r') as test_file: \n",
    "        grammar = Pcfg(grammar_file) \n",
    "        parser = CkyParser(grammar)\n",
    "        evaluate_parser(parser,test_file)"
   ]
  }
 ],
 "metadata": {
  "jupytext": {
   "cell_metadata_filter": "-all",
   "notebook_metadata_filter": "-all",
   "text_representation": {
    "extension": ".py",
    "format_name": "light"
   }
  },
  "kernelspec": {
   "display_name": "Python 3 (ipykernel)",
   "language": "python",
   "name": "python3"
  }
 },
 "nbformat": 4,
 "nbformat_minor": 5
}
